{
 "cells": [
  {
   "cell_type": "markdown",
   "id": "3dbcc0a9-83e1-4388-8bf6-4182f0161ffa",
   "metadata": {},
   "source": [
    "ДЗ 1. Тесты NIST"
   ]
  },
  {
   "cell_type": "code",
   "execution_count": 1,
   "id": "4ba1066b-8957-45d5-99b5-2be16cbafe83",
   "metadata": {},
   "outputs": [],
   "source": [
    "def test_1_bits(lst): # Частотный побитовый тест\n",
    "    n = len(lst)\n",
    "    s = sum(1 if num == 1 else -1 for num in lst) #сумма \n",
    "    #формула\n",
    "    s_obs = abs(s) / math.sqrt(n)\n",
    "    p_value = math.erfc(s_obs / math.sqrt(2))\n",
    "    print(f\"p-value: {p_value}\")\n",
    "    return p_value > 0.01"
   ]
  },
  {
   "cell_type": "code",
   "execution_count": 2,
   "id": "283c9056-460a-4897-842c-7e9ccad94c87",
   "metadata": {},
   "outputs": [
    {
     "name": "stdout",
     "output_type": "stream",
     "text": [
      "p-value: 0.841480581121794\n",
      "True\n"
     ]
    }
   ],
   "source": [
    "import random\n",
    "import math\n",
    "lst = []\n",
    "for i in range(10000):\n",
    "    lst.append(random.randint(0, 1))\n",
    "print(test_1_bits(lst))"
   ]
  },
  {
   "cell_type": "code",
   "execution_count": 3,
   "id": "c1eb7b86-fa8b-46b8-b6ff-caf87c8dec00",
   "metadata": {},
   "outputs": [],
   "source": [
    "def test_2_block(lst, m):\n",
    "    n = len(lst)\n",
    "    if n < m:  # если блок больше длины списка\n",
    "        print(\"Размер блока больше длины списка!\")\n",
    "        return False\n",
    "    # Количество блоков, на которые делим список\n",
    "    num_blocks = n // m\n",
    "    # Пропорции единиц в каждом блоке\n",
    "    proportions = []\n",
    "    for i in range(num_blocks):\n",
    "        block = lst[i * m : (i + 1) * m]\n",
    "        # Рассчет пропорции единиц в блоке\n",
    "        prop = sum(block) / m\n",
    "        proportions.append(prop)\n",
    "    # Рассчет Xi-квадрата\n",
    "    chi_square = 4 * m * sum((prop - 0.5) ** 2 for prop in proportions)\n",
    "    # Рассчет p-value\n",
    "    p_value = math.erfc(math.sqrt(chi_square / 2))\n",
    "    print(f\"p-value: {p_value}\")\n",
    "    return p_value > 0.01"
   ]
  },
  {
   "cell_type": "code",
   "execution_count": 4,
   "id": "035a4c8e-b02b-4de9-b019-6a3cbd807920",
   "metadata": {},
   "outputs": [
    {
     "name": "stdout",
     "output_type": "stream",
     "text": [
      "p-value: 0.0\n",
      "False\n"
     ]
    }
   ],
   "source": [
    "lst = []\n",
    "for i in range(10000):\n",
    "    lst.append(random.randint(0, 1))\n",
    "print(test_2_block(lst, m = 6))"
   ]
  },
  {
   "cell_type": "code",
   "execution_count": 5,
   "id": "c337a2ab-3b57-43d2-aedc-b04bbbc05d6d",
   "metadata": {},
   "outputs": [],
   "source": [
    "def test_3_runs(lst):\n",
    "    \"\"\"\n",
    "    подсчёт полного числа рядов в исходной последовательности,\n",
    "    где ряд — это непрерывная подпоследовательность одинаковых битов.\n",
    "\n",
    "    \"\"\"\n",
    "    n = len(lst)\n",
    "    \n",
    "    # Вычисление пропорции единиц в последовательности\n",
    "    pi = sum(lst) / n\n",
    "    \n",
    "    # Проверка, что пропорция единиц близка к 0.5\n",
    "    if abs(pi - 0.5) > (2 / math.sqrt(n)):\n",
    "        return False\n",
    "    # Подсчет количества рядов\n",
    "    v_obs = sum(lst[i] != lst[i + 1] for i in range(n - 1)) + 1\n",
    "    # Формула для p-value\n",
    "    p_value = math.erfc(abs(v_obs - 2 * n * pi * (1 - pi)) / (2 * math.sqrt(2 * n) * pi * (1 - pi)))\n",
    "    print(f\"p-value: {p_value}\")\n",
    "    return p_value > 0.01\n"
   ]
  },
  {
   "cell_type": "code",
   "execution_count": 6,
   "id": "554ed40c-0319-4d4a-bc23-31beed307731",
   "metadata": {},
   "outputs": [
    {
     "name": "stdout",
     "output_type": "stream",
     "text": [
      "p-value: 0.07157754135604434\n",
      "True\n"
     ]
    }
   ],
   "source": [
    "lst = []\n",
    "for i in range(10000):\n",
    "    lst.append(random.randint(0, 1))\n",
    "print(test_3_runs(lst))"
   ]
  },
  {
   "cell_type": "code",
   "execution_count": 7,
   "id": "c7cfb96c-a4c8-4d95-8026-633f41cbd203",
   "metadata": {},
   "outputs": [],
   "source": [
    "import math\n",
    "import random\n",
    "from itertools import groupby\n",
    "\n",
    "def test_4_longest_ones(lst, m):\n",
    "    \"\"\"\n",
    "    Тест на длину самого длинного ряда единиц в блоках\n",
    "    \"\"\"\n",
    "    n = len(lst)\n",
    "    num_blocks = n // m\n",
    "    \n",
    "    # Определение максимальной длины рядов единиц в каждом блоке\n",
    "    max_runs = []\n",
    "    for i in range(num_blocks):\n",
    "        block = lst[i*m:(i+1)*m]\n",
    "        # Определение максимальной длины ряда единиц в текущем блоке\n",
    "        max_run_length = 0\n",
    "        for k, g in groupby(block):\n",
    "            if k == 1:\n",
    "                max_run_length = max(max_run_length, len(list(g)))\n",
    "        max_runs.append(max_run_length)\n",
    "    if not max_runs:\n",
    "        print(\"No valid blocks found.\")\n",
    "        return False\n",
    "    # максимальное значение\n",
    "    observed_max = max(max_runs)\n",
    "    # Ожидаемое значение\n",
    "    expected = math.log2(m)\n",
    "    p_value = math.erfc((observed_max - expected) / math.sqrt(2 * expected))\n",
    "    print(f\"p-value: {p_value}\")\n",
    "    return p_value > 0.01"
   ]
  },
  {
   "cell_type": "code",
   "execution_count": 8,
   "id": "52527e1b-146e-46d0-81ee-05cf4ba74d14",
   "metadata": {},
   "outputs": [
    {
     "name": "stdout",
     "output_type": "stream",
     "text": [
      "p-value: 0.15729920705028513\n",
      "True\n"
     ]
    }
   ],
   "source": [
    "from itertools import groupby\n",
    "lst = []\n",
    "for i in range(10000):\n",
    "    lst.append(random.randint(0, 1))\n",
    "print(test_4_longest_ones(lst, m = 4))"
   ]
  },
  {
   "cell_type": "code",
   "execution_count": 9,
   "id": "a55ba2fb-f2c2-4083-8185-754a1eacfdcd",
   "metadata": {},
   "outputs": [],
   "source": [
    "def test_5_rank(lst):\n",
    "    \"\"\"\n",
    "    Тест рангов бинарных матриц\n",
    "\n",
    "    В этом тесте вычисляется ранг непересекающихся подматриц,\n",
    "    построенных из исходной двоичной последовательности.\n",
    "    Проверка на линейную зависимость подстрок фиксированной длины,\n",
    "    составляющих первоначальную последовательность.\n",
    "    \"\"\"\n",
    "    n = len(lst)\n",
    "    matrix_size = 32  # Размер матрицы\n",
    "    num_matrices = n // (matrix_size * matrix_size)  # Количество матриц, которые можно сформировать\n",
    "\n",
    "    # Формирование списка матриц из бинарной последовательности\n",
    "    matrices = [\n",
    "        np.reshape(lst[i*matrix_size*matrix_size:(i+1)*matrix_size*matrix_size], (matrix_size, matrix_size))\n",
    "        for i in range(num_matrices)\n",
    "    ]\n",
    "\n",
    "    # Вычисление ранга каждой матрицы\n",
    "    ranks = [np.linalg.matrix_rank(matrix) for matrix in matrices]\n",
    "\n",
    "    # Подсчет количества матриц полного ранга\n",
    "    full_rank = ranks.count(matrix_size)\n",
    "\n",
    "    # Ожидаемое количество матриц\n",
    "    expected_full_rank = 0.2888 * num_matrices\n",
    "\n",
    "    # Рассчет хи-квадрат\n",
    "    chi_square = ((full_rank - expected_full_rank) ** 2) / expected_full_rank\n",
    "\n",
    "    # Рассчет p-value\n",
    "    p_value = math.erfc(math.sqrt(chi_square / 2))\n",
    "    print(f\"p-value: {p_value}\")\n",
    "    return p_value > 0.01"
   ]
  },
  {
   "cell_type": "code",
   "execution_count": 10,
   "id": "82ad745b-7ad4-4300-94d4-1ec9ce6025f7",
   "metadata": {},
   "outputs": [
    {
     "name": "stdout",
     "output_type": "stream",
     "text": [
      "p-value: 7.18067510581265e-05\n",
      "False\n"
     ]
    }
   ],
   "source": [
    "import numpy as np\n",
    "lst = []\n",
    "for i in range(10000):\n",
    "    lst.append(random.randint(0, 1))\n",
    "print(test_5_rank(lst))"
   ]
  },
  {
   "cell_type": "code",
   "execution_count": 11,
   "id": "a179dde6-c397-4593-a456-2f4297feef6f",
   "metadata": {},
   "outputs": [],
   "source": [
    "import numpy as np\n",
    "import math\n",
    "import random\n",
    "\n",
    "def test_6_dft(lst):\n",
    "    \"\"\"\n",
    "    Тест на дискретное преобразование Фурье (DFT)\n",
    "    Этот тест оценивает высоту пиков дискретного преобразования Фурье \n",
    "    бинарной последовательности. Цель — выявление периодических свойств\n",
    "    последовательности, таких как повторяющиеся участки.\n",
    "    \"\"\"\n",
    "    n = len(lst)\n",
    "    # Преобразуем бинарные значения (0 и 1) в значения (-1 и 1)\n",
    "    bit_sequence = [2 * bit - 1 for bit in lst]\n",
    "    # Выполняем дискретное преобразование Фурье\n",
    "    fft_result = np.fft.fft(bit_sequence)\n",
    "    # Вычисляем амплитуды первых половин преобразования (симметрия)\n",
    "    magnitudes = np.abs(fft_result)[:n//2]\n",
    "    # Определяем пороговое значение для пиков\n",
    "    threshold = math.sqrt(2.995732274 * n)\n",
    "    num_peaks = sum(mag > threshold for mag in magnitudes)\n",
    "    # Ожидаемое количество пиков, превышающих порог\n",
    "    expected_peaks = 0.95 * n / 2\n",
    "    # Рассчитываем p-value\n",
    "    std_dev = math.sqrt(0.95 * 0.05 * n / 2)  # Стандартное отклонение\n",
    "    p_value = math.erfc(abs(num_peaks - expected_peaks) / std_dev)\n",
    "    print(f\"p-value: {p_value}\")\n",
    "    return p_value > 0.01"
   ]
  },
  {
   "cell_type": "code",
   "execution_count": 12,
   "id": "45416307-a6ac-407c-92ac-897442d7dfa9",
   "metadata": {},
   "outputs": [
    {
     "name": "stdout",
     "output_type": "stream",
     "text": [
      "p-value: 0.0\n",
      "False\n"
     ]
    }
   ],
   "source": [
    "lst = []\n",
    "for i in range(10000):\n",
    "    lst.append(random.randint(0, 1))\n",
    "print(test_6_dft(lst))"
   ]
  },
  {
   "cell_type": "code",
   "execution_count": 13,
   "id": "79a9d5ef-86b0-4653-98d5-3cf770a49345",
   "metadata": {},
   "outputs": [],
   "source": [
    "def test_7_non_overlapping(lst, template):\n",
    "    \"\"\"\n",
    "    Тест на совпадение неперекрывающихся шаблонов\n",
    "\n",
    "    В этом тесте подсчитывается количество неперекрывающихся вхождений заранее определенного шаблона\n",
    "    в бинарной последовательности. Цель — обнаружение генераторов случайных чисел, которые\n",
    "    формируют шаблоны слишком часто.\n",
    "    \"\"\"\n",
    "    n = len(lst)\n",
    "    template_len = len(template)\n",
    "    matches = 0\n",
    "    # Поиск неперекрывающихся вхождений шаблона в последовательности\n",
    "    for i in range(n - template_len + 1):\n",
    "        if lst[i:i+template_len] == template:\n",
    "             # Перемещаем окно на размер шаблона вперед (без перекрытия)\n",
    "            matches += 1\n",
    "    # Ожидаемое количество вхождений шаблона\n",
    "    expected_matches = (n - template_len + 1) / (2 ** template_len)\n",
    "    p_value = math.erfc(abs(matches - expected_matches) / math.sqrt(2 * expected_matches))\n",
    "    print(f\"p-value: {p_value}\")\n",
    "    return p_value > 0.01"
   ]
  },
  {
   "cell_type": "code",
   "execution_count": 14,
   "id": "ba1b0522-d78f-4592-afc2-c823cbd37279",
   "metadata": {},
   "outputs": [
    {
     "name": "stdout",
     "output_type": "stream",
     "text": [
      "p-value: 0.676506727070678\n",
      "True\n"
     ]
    }
   ],
   "source": [
    "lst = []\n",
    "for i in range(10000):\n",
    "    lst.append(random.randint(0, 1))\n",
    "print(test_7_non_overlapping(lst, [1, 0, 1]))"
   ]
  },
  {
   "cell_type": "code",
   "execution_count": 15,
   "id": "85c3a44b-ecb7-4f4b-bbd5-3a31a8178842",
   "metadata": {},
   "outputs": [],
   "source": [
    "def test_8_overlapping(lst, template):\n",
    "    \"\"\"\n",
    "    Тест на совпадение перекрывающихся шаблонов\n",
    "\n",
    "    Этот тест подсчитывает количество перекрывающихся вхождений заранее определенного шаблона\n",
    "    в бинарной последовательности. В отличие от теста на неперекрывающиеся шаблоны,\n",
    "    здесь окно перемещается на один бит вперед даже если шаблон найден.\n",
    "    \"\"\"\n",
    "    n = len(lst)\n",
    "    template_len = len(template)\n",
    "    matches = 0\n",
    "    \n",
    "    # Перебираем все возможные позиции шаблона в последовательности\n",
    "    for i in range(n - template_len + 1):\n",
    "        if lst[i:i+template_len] == template:\n",
    "            matches += 1\n",
    "\n",
    "    # Рассчитываем ожидаемое количество вхождений шаблона\n",
    "    expected_matches = (n - template_len + 1) / (2 ** template_len)\n",
    "    \n",
    "    # Рассчитываем дисперсию количества вхождений\n",
    "    variance = n * (1 / (2 ** template_len)) * (1 - 1 / (2 ** template_len))\n",
    "    chi_square = abs(matches - expected_matches) / math.sqrt(2 * variance)\n",
    "    p_value = math.erfc(chi_square)\n",
    "    print(f\"p-value: {p_value}\")\n",
    "    return p_value > 0.01"
   ]
  },
  {
   "cell_type": "code",
   "execution_count": 16,
   "id": "56c8eb14-a165-4d4d-b187-bfed2e8fa6de",
   "metadata": {},
   "outputs": [
    {
     "name": "stdout",
     "output_type": "stream",
     "text": [
      "p-value: 0.7451436487037852\n",
      "True\n"
     ]
    }
   ],
   "source": [
    "lst = []\n",
    "for i in range(10000):\n",
    "    lst.append(random.randint(0, 1))\n",
    "print(test_8_overlapping(lst, [1, 0, 1]))"
   ]
  },
  {
   "cell_type": "code",
   "execution_count": 17,
   "id": "034bed6e-cbea-45e7-8215-cae8c6917640",
   "metadata": {},
   "outputs": [],
   "source": [
    "def test_9_maurer(lst):\n",
    "    \"\"\"\n",
    "    Тест на случайность по методу Мауэра\n",
    "\n",
    "    Этот тест проверяет случайность бинарной последовательности,\n",
    "    основываясь на логарифмах разностей позиций появления\n",
    "    бинарных блоков фиксированной длины.\n",
    "    \"\"\"\n",
    "    n = len(lst)\n",
    "    L = 6  # Длина блока\n",
    "    Q = 10 * (2 ** L)  # Количество блоков для инициализации\n",
    "    K = n // L - Q  # Количество блоков для тестирования\n",
    "    T = [-1] * (2 ** L)  # Инициализация T со значениями -1\n",
    "    sum_val = 0.0\n",
    "    for i in range(Q):\n",
    "        T[int(''.join(map(str, lst[i * L:(i + 1) * L])), 2)] = i + 1\n",
    "    for i in range(Q, Q + K):\n",
    "        # Преобразование текущего блока в десятичное представление\n",
    "        dec_rep = int(''.join(map(str, lst[i * L:(i + 1) * L])), 2)\n",
    "        if T[dec_rep] != -1:\n",
    "            # Рассчитываем логарифм разности\n",
    "            diff = i - T[dec_rep]\n",
    "            if diff > 0:\n",
    "                sum_val += math.log2(diff)\n",
    "        T[dec_rep] = i + 1\n",
    "    expected_value = 7.1836656\n",
    "    variance = 3.238\n",
    "    p_value = math.erfc(abs(sum_val / K - expected_value) / (math.sqrt(variance / K)))\n",
    "    print(f\"p-value: {p_value}\")\n",
    "    return p_value > 0.01"
   ]
  },
  {
   "cell_type": "code",
   "execution_count": 18,
   "id": "8a7ebc9a-e019-43a5-86e6-3d1978af8003",
   "metadata": {},
   "outputs": [
    {
     "name": "stdout",
     "output_type": "stream",
     "text": [
      "p-value: 0.0\n",
      "False\n"
     ]
    }
   ],
   "source": [
    "lst = []\n",
    "for i in range(100000):\n",
    "    lst.append(random.randint(0, 1))\n",
    "print(test_9_maurer(lst))"
   ]
  },
  {
   "cell_type": "code",
   "execution_count": 19,
   "id": "96c7f5d4-6f4b-44ae-ab09-faf4f221af0f",
   "metadata": {},
   "outputs": [],
   "source": [
    "def test_10_lin_comp(lst, seq_size):\n",
    "    n = len(lst)\n",
    "    if n < seq_size:\n",
    "        return False\n",
    "    \n",
    "    num_seqs = n // seq_size\n",
    "    complexities = []\n",
    "\n",
    "    # Подсчет линейной сложности для каждого блока\n",
    "    for i in range(num_seqs):\n",
    "        block = lst[i * seq_size:(i + 1) * seq_size]\n",
    "        complexities.append(berlekamp_massey_algorithm(block))  # Используем алгоритм Берлекэмпа-Масси\n",
    "\n",
    "    # Средняя сложность\n",
    "    avg_complexity = sum(complexities) / num_seqs\n",
    "    expected_complexity = seq_size / 2 + (9 + (-1) ** seq_size) / 36 - (seq_size / 3 + 2 / 9) / seq_size\n",
    "    p_value = math.erfc(abs(avg_complexity - expected_complexity) / (math.sqrt(2 * seq_size ** 2 / 45)))\n",
    "    print(f\"p-value: {p_value}\")\n",
    "    return p_value > 0.01\n",
    "\n",
    "def berlekamp_massey_algorithm(lst):\n",
    "    # Алгоритм Берлекэмпа-Масси для оценки линейной сложности\n",
    "    n = len(lst)\n",
    "    c = [0] * n\n",
    "    b = [0] * n\n",
    "    c[0] = 1\n",
    "    b[0] = 1\n",
    "    l, m, i = 0, -1, 0\n",
    "    for i in range(n):\n",
    "        discrepancy = lst[i]\n",
    "        for j in range(1, l + 1):\n",
    "            discrepancy ^= (c[j] * lst[i - j])\n",
    "        if discrepancy == 1:\n",
    "            t = c[:]\n",
    "            for j in range(n - i + m):\n",
    "                c[i - m + j] ^= b[j]\n",
    "            if l <= i // 2:\n",
    "                l = i + 1 - l\n",
    "                m = i\n",
    "                b = t\n",
    "    return l"
   ]
  },
  {
   "cell_type": "code",
   "execution_count": 20,
   "id": "098770e6-fcda-45e6-92fe-971bf8b74325",
   "metadata": {},
   "outputs": [
    {
     "name": "stdout",
     "output_type": "stream",
     "text": [
      "p-value: 0.9972595907454542\n",
      "True\n"
     ]
    }
   ],
   "source": [
    "lst = []\n",
    "for i in range(10000):\n",
    "    lst.append(random.randint(0, 1))\n",
    "print(test_10_lin_comp(lst, 500))"
   ]
  },
  {
   "cell_type": "code",
   "execution_count": 21,
   "id": "94dd8691-118a-4fd3-be0c-a998411fe311",
   "metadata": {},
   "outputs": [],
   "source": [
    "def test_11_serial(lst, m):\n",
    "    \"\"\"\n",
    "    Тест на периодичность.\n",
    "    Проверяет частоту появления всех возможных шаблонов длиной m бит в последовательности.\n",
    "    Цель — определить, действительно ли количество появлений всех возможных шаблонов длиной m бит\n",
    "    приблизительно такое же, как в случае абсолютно случайной входной последовательности бит.\n",
    "    \"\"\"\n",
    "    n = len(lst)\n",
    "    if n < m:  # Проверка, чтобы длина последовательности была больше длины шаблона\n",
    "        return False\n",
    "    counts = {}\n",
    "    \n",
    "    # Проходим по всем возможным шаблонам длиной m\n",
    "    for i in range(n - m + 1):\n",
    "        pattern = tuple(lst[i:i+m])  # Извлекаем шаблон длиной m бит\n",
    "        counts[pattern] = counts.get(pattern, 0) + 1  # Обновляем счетчик для текущего шаблона\n",
    "    \n",
    "    # Расчёт среднего и стандартного отклонения\n",
    "    num_patterns = 2 ** m  # Общее количество возможных шаблонов m бит\n",
    "    expected_count = (n - m + 1) / num_patterns  # Ожидаемое количество появлений\n",
    "    variance = (n - m + 1) * (1 - 1 / num_patterns)\n",
    "    #хи-квадрат\n",
    "    chi_square = sum((count - expected_count) ** 2 / variance for count in counts.values())\n",
    "    p_value = math.erfc(chi_square / (2 * math.sqrt(variance)))\n",
    "    print(f\"p-value: {p_value}\")\n",
    "    return p_value > 0.01\n"
   ]
  },
  {
   "cell_type": "code",
   "execution_count": 22,
   "id": "a8ac9419-ffb7-460a-98ab-938d9f31647e",
   "metadata": {},
   "outputs": [
    {
     "name": "stdout",
     "output_type": "stream",
     "text": [
      "p-value: 0.9972089066466684\n",
      "True\n"
     ]
    }
   ],
   "source": [
    "lst = []\n",
    "for i in range(10000):\n",
    "    lst.append(random.randint(0, 1))\n",
    "print(test_11_serial(lst, 2))"
   ]
  },
  {
   "cell_type": "code",
   "execution_count": 23,
   "id": "5bac9b22-0ce0-46fa-9b8b-4f25df6cf8db",
   "metadata": {},
   "outputs": [],
   "source": [
    "def test_12_approximate_entropy(lst, m):\n",
    "    \"\"\"\n",
    "    Тест приблизительной энтропии.\n",
    "\n",
    "    Сравнивает частоты появления шаблонов длиной m бит и m+1 бит в последовательности,\n",
    "    чтобы определить, насколько частоты перекрытий отличаются от ожидаемых в абсолютно случайной последовательности.\n",
    "    \"\"\"\n",
    "    n = len(lst)\n",
    "    if n < m + 1:\n",
    "        return False\n",
    "    counts_m = defaultdict(int)\n",
    "    for i in range(n - m):\n",
    "        pattern_m = tuple(lst[i:i+m])\n",
    "        counts_m[pattern_m] += 1\n",
    "    # Подсчет количества вхождений шаблонов длиной m бит   \n",
    "    counts_m1 = defaultdict(int)\n",
    "    for i in range(n - m - 1):\n",
    "        # Извлечение шаблона длиной m бит\n",
    "        pattern_m1 = tuple(lst[i:i+m+1])\n",
    "        counts_m1[pattern_m1] += 1\n",
    "    num_patterns_m = 2 ** m\n",
    "    num_patterns_m1 = 2 ** (m + 1)\n",
    "    \n",
    "    expected_count_m = (n - m) / num_patterns_m\n",
    "    expected_count_m1 = (n - m - 1) / num_patterns_m1\n",
    "    \n",
    "    # Расчет дисперсии\n",
    "    variance_m = (n - m) * (1 - 1 / num_patterns_m)\n",
    "    variance_m1 = (n - m - 1) * (1 - 1 / num_patterns_m1)\n",
    "    \n",
    "    #хи-квадрат \n",
    "    chi_square_m = sum((count - expected_count_m) ** 2 / variance_m for count in counts_m.values())\n",
    "    chi_square_m1 = sum((count - expected_count_m1) ** 2 / variance_m1 for count in counts_m1.values())\n",
    "    \n",
    "    # Общая статистика\n",
    "    chi_square_total = chi_square_m + chi_square_m1\n",
    "    \n",
    "    # Вычисление p-value\n",
    "    p_value = math.erfc(chi_square_total / (2 * math.sqrt(variance_m + variance_m1)))\n",
    "    print(f\"p-value: {p_value}\")\n",
    "    \n",
    "    # Возвращаем True если p-value > 0.01, иначе False\n",
    "    return p_value > 0.01\n"
   ]
  },
  {
   "cell_type": "code",
   "execution_count": 24,
   "id": "ca4ae098-98d7-4f97-aa2f-b878794234e2",
   "metadata": {},
   "outputs": [
    {
     "name": "stdout",
     "output_type": "stream",
     "text": [
      "p-value: 0.9756329644717346\n",
      "True\n"
     ]
    }
   ],
   "source": [
    "from collections import defaultdict\n",
    "lst = []\n",
    "for i in range(10000):\n",
    "    lst.append(random.randint(0, 1))\n",
    "print(test_12_approximate_entropy(lst, 2))"
   ]
  }
 ],
 "metadata": {
  "kernelspec": {
   "display_name": "Python 3 (ipykernel)",
   "language": "python",
   "name": "python3"
  },
  "language_info": {
   "codemirror_mode": {
    "name": "ipython",
    "version": 3
   },
   "file_extension": ".py",
   "mimetype": "text/x-python",
   "name": "python",
   "nbconvert_exporter": "python",
   "pygments_lexer": "ipython3",
   "version": "3.8.18"
  }
 },
 "nbformat": 4,
 "nbformat_minor": 5
}
